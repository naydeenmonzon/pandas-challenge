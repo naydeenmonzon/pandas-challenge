{
 "cells": [
  {
   "cell_type": "markdown",
   "metadata": {},
   "source": [
    "# PyCitySchools"
   ]
  },
  {
   "cell_type": "markdown",
   "metadata": {},
   "source": [
    "Well done! Having spent years analyzing financial records for big banks, you’ve finally scratched your idealistic itch and joined the education sector. In your latest role, you’ve become the Chief Data Scientist for your city’s school district. In this capacity, you’ll be helping the school board and mayor make strategic decisions regarding future school budgets and priorities.\n",
    "\n",
    "As a first task, you’ve been asked to analyze the district-wide standardized test results. You’ll be given access to every student’s math and reading scores, as well as various information on the schools they attend. Your responsibility is to aggregate the data to and showcase obvious trends in school performance."
   ]
  },
  {
   "cell_type": "markdown",
   "metadata": {},
   "source": [
    "## District Summary"
   ]
  },
  {
   "cell_type": "markdown",
   "metadata": {},
   "source": [
    "* Create a high level snapshot (in table form) of the district’s key metrics, including:\n",
    "    * Total Schools\n",
    "    * Total Students\n",
    "    * Total Budget\n",
    "    * Average Math Score\n",
    "    * Average Reading Score\n",
    "    * % Passing Math (The percentage of students that passed math.)\n",
    "    * % Passing Reading (The percentage of students that passed reading.)\n",
    "    * % Overall Passing (The percentage of students that passed math and reading.)"
   ]
  },
  {
   "cell_type": "code",
   "execution_count": null,
   "metadata": {},
   "outputs": [],
   "source": []
  }
 ],
 "metadata": {
  "kernelspec": {
   "display_name": "Python 3",
   "language": "python",
   "name": "python3"
  },
  "language_info": {
   "codemirror_mode": {
    "name": "ipython",
    "version": 3
   },
   "file_extension": ".py",
   "mimetype": "text/x-python",
   "name": "python",
   "nbconvert_exporter": "python",
   "pygments_lexer": "ipython3",
   "version": "3.8.5"
  }
 },
 "nbformat": 4,
 "nbformat_minor": 4
}
